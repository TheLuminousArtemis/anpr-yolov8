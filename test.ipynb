{
 "cells": [
  {
   "cell_type": "code",
   "execution_count": 1,
   "metadata": {},
   "outputs": [],
   "source": [
    "from ultralytics import YOLO"
   ]
  },
  {
   "cell_type": "code",
   "execution_count": 2,
   "metadata": {},
   "outputs": [
    {
     "name": "stderr",
     "output_type": "stream",
     "text": [
      "Ultralytics YOLOv8.0.0  Python-3.10.13 torch-2.2.1 CUDA:0 (NVIDIA GeForce RTX 3050 Laptop GPU, 4096MiB)\n",
      "Fusing layers... \n",
      "Model summary: 168 layers, 3005843 parameters, 0 gradients, 8.1 GFLOPs\n",
      "image 1/1 C:\\Development\\anpr-yolo\\download.jpeg: 416x640 1 LicensePlate, 144.6ms\n",
      "Speed: 10.0ms pre-process, 144.6ms inference, 75.8ms postprocess per image at shape (1, 3, 640, 640)\n",
      "Results saved to \u001b[1mruns\\detect\\predict\u001b[0m\n"
     ]
    },
    {
     "data": {
      "text/plain": [
       "[tensor([[106.00000, 104.00000, 197.00000, 128.00000,   0.94243,   0.00000]], device='cuda:0')]"
      ]
     },
     "execution_count": 2,
     "metadata": {},
     "output_type": "execute_result"
    }
   ],
   "source": [
    "model = YOLO('best.pt')\n",
    "model.predict('download.jpeg',save=True,conf=0.2)"
   ]
  },
  {
   "cell_type": "code",
   "execution_count": 9,
   "metadata": {},
   "outputs": [
    {
     "name": "stderr",
     "output_type": "stream",
     "text": [
      "Ultralytics YOLOv8.0.0  Python-3.10.13 torch-2.2.1 CUDA:0 (NVIDIA GeForce RTX 3050 Laptop GPU, 4096MiB)\n",
      "Fusing layers... \n",
      "Model summary: 168 layers, 3005843 parameters, 0 gradients, 8.1 GFLOPs\n",
      "image 1/1 C:\\Development\\anpr-yolo\\img1.jpg: 640x640 1 LicensePlate, 13.3ms\n",
      "Speed: 0.0ms pre-process, 13.3ms inference, 77.5ms postprocess per image at shape (1, 3, 640, 640)\n",
      "Results saved to \u001b[1mruns\\detect\\train3\u001b[0m\n"
     ]
    }
   ],
   "source": [
    "!python predict_modified.py model='best.pt' source='img1.jpg'"
   ]
  },
  {
   "cell_type": "code",
   "execution_count": 10,
   "metadata": {},
   "outputs": [
    {
     "name": "stderr",
     "output_type": "stream",
     "text": [
      "Ultralytics YOLOv8.0.0  Python-3.10.13 torch-2.2.1 CUDA:0 (NVIDIA GeForce RTX 3050 Laptop GPU, 4096MiB)\n",
      "Fusing layers... \n",
      "Model summary: 168 layers, 3005843 parameters, 0 gradients, 8.1 GFLOPs\n",
      "image 1/1 C:\\Development\\anpr-yolo\\img2.jpg: 640x640 1 LicensePlate, 6.5ms\n",
      "Speed: 0.0ms pre-process, 6.5ms inference, 76.9ms postprocess per image at shape (1, 3, 640, 640)\n",
      "Results saved to \u001b[1mruns\\detect\\train4\u001b[0m\n"
     ]
    }
   ],
   "source": [
    "!python predict_modified.py model='best.pt' source='img2.jpg'"
   ]
  },
  {
   "cell_type": "code",
   "execution_count": 1,
   "metadata": {},
   "outputs": [
    {
     "name": "stderr",
     "output_type": "stream",
     "text": [
      "Ultralytics YOLOv8.0.0  Python-3.10.13 torch-2.2.1 CUDA:0 (NVIDIA GeForce RTX 3050 Laptop GPU, 4096MiB)\n",
      "Fusing layers... \n",
      "Model summary: 168 layers, 3005843 parameters, 0 gradients, 8.1 GFLOPs\n",
      "image 1/1 C:\\Development\\anpr-yolo\\img3.jpg: 640x640 1 LicensePlate, 10.0ms\n",
      "Speed: 0.0ms pre-process, 10.0ms inference, 70.2ms postprocess per image at shape (1, 3, 640, 640)\n",
      "Results saved to \u001b[1mruns\\detect\\train4\u001b[0m\n"
     ]
    }
   ],
   "source": [
    "!python predict_modified.py model='best.pt' source='img3.jpg'"
   ]
  },
  {
   "cell_type": "code",
   "execution_count": 2,
   "metadata": {},
   "outputs": [
    {
     "name": "stderr",
     "output_type": "stream",
     "text": [
      "Ultralytics YOLOv8.0.0  Python-3.10.13 torch-2.2.1 CUDA:0 (NVIDIA GeForce RTX 3050 Laptop GPU, 4096MiB)\n",
      "Fusing layers... \n",
      "Model summary: 168 layers, 3005843 parameters, 0 gradients, 8.1 GFLOPs\n",
      "image 1/1 C:\\Development\\anpr-yolo\\img4.jpg: 640x640 1 LicensePlate, 10.0ms\n",
      "Speed: 0.0ms pre-process, 10.0ms inference, 84.5ms postprocess per image at shape (1, 3, 640, 640)\n",
      "Results saved to \u001b[1mruns\\detect\\train5\u001b[0m\n"
     ]
    }
   ],
   "source": [
    "!python predict_modified.py model='best.pt' source='img4.jpg'"
   ]
  },
  {
   "cell_type": "code",
   "execution_count": 3,
   "metadata": {},
   "outputs": [
    {
     "name": "stderr",
     "output_type": "stream",
     "text": [
      "Ultralytics YOLOv8.0.0  Python-3.10.13 torch-2.2.1 CUDA:0 (NVIDIA GeForce RTX 3050 Laptop GPU, 4096MiB)\n",
      "Fusing layers... \n",
      "Model summary: 168 layers, 3005843 parameters, 0 gradients, 8.1 GFLOPs\n",
      "image 1/1 C:\\Development\\anpr-yolo\\img5.jpg: 640x640 1 LicensePlate, 10.0ms\n",
      "Speed: 0.0ms pre-process, 10.0ms inference, 94.4ms postprocess per image at shape (1, 3, 640, 640)\n",
      "Results saved to \u001b[1mruns\\detect\\train6\u001b[0m\n"
     ]
    }
   ],
   "source": [
    "!python predict_modified.py model='best.pt' source='img5.jpg'"
   ]
  },
  {
   "cell_type": "code",
   "execution_count": 4,
   "metadata": {},
   "outputs": [
    {
     "name": "stderr",
     "output_type": "stream",
     "text": [
      "Ultralytics YOLOv8.0.0  Python-3.10.13 torch-2.2.1 CUDA:0 (NVIDIA GeForce RTX 3050 Laptop GPU, 4096MiB)\n",
      "Fusing layers... \n",
      "Model summary: 168 layers, 3005843 parameters, 0 gradients, 8.1 GFLOPs\n",
      "image 1/1 C:\\Development\\anpr-yolo\\img6.jpg: 640x640 1 LicensePlate, 6.9ms\n",
      "Speed: 0.0ms pre-process, 6.9ms inference, 83.5ms postprocess per image at shape (1, 3, 640, 640)\n",
      "Results saved to \u001b[1mruns\\detect\\train6\u001b[0m\n"
     ]
    }
   ],
   "source": [
    "!python predict_modified.py model='best.pt' source='img6.jpg'"
   ]
  }
 ],
 "metadata": {
  "kernelspec": {
   "display_name": "pytorch-yolo",
   "language": "python",
   "name": "python3"
  },
  "language_info": {
   "codemirror_mode": {
    "name": "ipython",
    "version": 3
   },
   "file_extension": ".py",
   "mimetype": "text/x-python",
   "name": "python",
   "nbconvert_exporter": "python",
   "pygments_lexer": "ipython3",
   "version": "3.10.13"
  }
 },
 "nbformat": 4,
 "nbformat_minor": 2
}
